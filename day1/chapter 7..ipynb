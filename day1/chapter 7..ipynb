{
 "cells": [
  {
   "cell_type": "code",
   "execution_count": 1,
   "id": "33ec03af",
   "metadata": {
    "scrolled": true
   },
   "outputs": [
    {
     "data": {
      "text/plain": [
       "10"
      ]
     },
     "execution_count": 1,
     "metadata": {},
     "output_type": "execute_result"
    }
   ],
   "source": [
    "a = 10\n",
    "a"
   ]
  },
  {
   "cell_type": "code",
   "execution_count": 1,
   "id": "49b46dfb",
   "metadata": {
    "scrolled": true
   },
   "outputs": [
    {
     "name": "stdout",
     "output_type": "stream",
     "text": [
      "1 2 3 4 5\n"
     ]
    }
   ],
   "source": [
    "print(1, 2, 3, 4, 5)"
   ]
  },
  {
   "cell_type": "code",
   "execution_count": 2,
   "id": "ebebe004",
   "metadata": {},
   "outputs": [
    {
     "name": "stdout",
     "output_type": "stream",
     "text": [
      "1, 2, 3\n"
     ]
    }
   ],
   "source": [
    "print(1, 2, 3, sep=', ')"
   ]
  },
  {
   "cell_type": "code",
   "execution_count": 3,
   "id": "9ad4219b",
   "metadata": {},
   "outputs": [
    {
     "name": "stdout",
     "output_type": "stream",
     "text": [
      "4,5,6\n"
     ]
    }
   ],
   "source": [
    "print(4, 5, 6, sep=\",\")"
   ]
  },
  {
   "cell_type": "code",
   "execution_count": 4,
   "id": "f0b4dbcb",
   "metadata": {},
   "outputs": [
    {
     "name": "stdout",
     "output_type": "stream",
     "text": [
      "HelloPython\n"
     ]
    }
   ],
   "source": [
    "print('Hello', 'Python', sep='')"
   ]
  },
  {
   "cell_type": "code",
   "execution_count": 5,
   "id": "c754a9c1",
   "metadata": {},
   "outputs": [
    {
     "name": "stdout",
     "output_type": "stream",
     "text": [
      "1970x1000\n"
     ]
    }
   ],
   "source": [
    "print(1970, 1000,sep='x')"
   ]
  },
  {
   "cell_type": "code",
   "execution_count": 6,
   "id": "fabfc2f7",
   "metadata": {},
   "outputs": [
    {
     "name": "stdout",
     "output_type": "stream",
     "text": [
      "1\n",
      "2\n",
      "3\n"
     ]
    }
   ],
   "source": [
    "print(1, 2, 3, sep='\\n')"
   ]
  },
  {
   "cell_type": "code",
   "execution_count": 7,
   "id": "9d7da08b",
   "metadata": {},
   "outputs": [
    {
     "name": "stdout",
     "output_type": "stream",
     "text": [
      "1\n",
      " 2\n",
      " 3\n"
     ]
    }
   ],
   "source": [
    "print('1\\n 2\\n 3')"
   ]
  },
  {
   "cell_type": "markdown",
   "id": "58cfc596",
   "metadata": {},
   "source": [
    "- /n 다음 줄로 이동하며 개행이라고도 부름니다.\n",
    "- \\t 탭 문자, 키보드의 Tab 키와 같으며 여러 칸을 띄웁니다.\n",
    "- \\\\ \\문자 자체를 출력할 때는 \\를 두 번 써야 합니다."
   ]
  },
  {
   "cell_type": "code",
   "execution_count": 8,
   "id": "2a666bc7",
   "metadata": {},
   "outputs": [
    {
     "name": "stdout",
     "output_type": "stream",
     "text": [
      "1\n",
      "2\n",
      "3\n"
     ]
    }
   ],
   "source": [
    "print(1)\n",
    "print(2)\n",
    "print(3)"
   ]
  },
  {
   "cell_type": "code",
   "execution_count": 9,
   "id": "4843a42e",
   "metadata": {},
   "outputs": [
    {
     "name": "stdout",
     "output_type": "stream",
     "text": [
      "123\n"
     ]
    }
   ],
   "source": [
    "print(1, end='')\n",
    "print(2, end='')\n",
    "print(3)"
   ]
  },
  {
   "cell_type": "code",
   "execution_count": 10,
   "id": "3d6fe649",
   "metadata": {},
   "outputs": [
    {
     "name": "stdout",
     "output_type": "stream",
     "text": [
      "1 2 3\n"
     ]
    }
   ],
   "source": [
    "print(1, end=' ')\n",
    "print(2, end=' ')\n",
    "print(3)"
   ]
  },
  {
   "cell_type": "code",
   "execution_count": 11,
   "id": "c95d9a77",
   "metadata": {},
   "outputs": [
    {
     "name": "stdout",
     "output_type": "stream",
     "text": [
      "3.1 Python 100\n"
     ]
    }
   ],
   "source": [
    "print(3.1, 'Python', 100)"
   ]
  },
  {
   "cell_type": "markdown",
   "id": "5fe55cff",
   "metadata": {},
   "source": [
    "1. d\n",
    "2. c \n",
    "3. a, b, d, e"
   ]
  },
  {
   "cell_type": "code",
   "execution_count": 12,
   "id": "4ce58420",
   "metadata": {},
   "outputs": [
    {
     "name": "stdout",
     "output_type": "stream",
     "text": [
      "16 9:"
     ]
    }
   ],
   "source": [
    "print(16, 9, end=':')"
   ]
  },
  {
   "cell_type": "code",
   "execution_count": 13,
   "id": "4580d8bd",
   "metadata": {},
   "outputs": [
    {
     "name": "stdout",
     "output_type": "stream",
     "text": [
      "16:9\n"
     ]
    }
   ],
   "source": [
    "print(16, 9, sep=':')"
   ]
  },
  {
   "cell_type": "code",
   "execution_count": 15,
   "id": "2cd53c06",
   "metadata": {},
   "outputs": [
    {
     "name": "stdout",
     "output_type": "stream",
     "text": [
      "hello\n",
      "python\n",
      "hello python\n",
      "hello\n",
      "python\n"
     ]
    }
   ],
   "source": [
    "print('hello', 'python', sep='\\n')\n",
    "print('hello', 'python')\n",
    "print('hello', '\\n', 'python', sep='')"
   ]
  },
  {
   "cell_type": "code",
   "execution_count": 18,
   "id": "cec2854b",
   "metadata": {},
   "outputs": [
    {
     "name": "stdout",
     "output_type": "stream",
     "text": [
      "2023/06/06 11:57:30\n"
     ]
    }
   ],
   "source": [
    "year = 2023\n",
    "month = \"06\"\n",
    "day = \"06\"\n",
    "hour = 11\n",
    "minute = 57\n",
    "second = 30\n",
    "\n",
    "print(year, month, day, sep= '/', end= ' ')\n",
    "print(hour, minute, second, sep= ':')"
   ]
  },
  {
   "cell_type": "code",
   "execution_count": 22,
   "id": "aced17cc",
   "metadata": {},
   "outputs": [
    {
     "name": "stdout",
     "output_type": "stream",
     "text": [
      "1999-12-31T10:37:21 1999 12 31 10 37 21\n"
     ]
    }
   ],
   "source": [
    "print(\"1999-12-31T10:37:21\", '1999 12 31 10 37 21')"
   ]
  },
  {
   "cell_type": "code",
   "execution_count": 25,
   "id": "41031371",
   "metadata": {},
   "outputs": [
    {
     "name": "stdout",
     "output_type": "stream",
     "text": [
      "1\n"
     ]
    },
    {
     "ename": "ValueError",
     "evalue": "not enough values to unpack (expected 6, got 1)",
     "output_type": "error",
     "traceback": [
      "\u001b[1;31m---------------------------------------------------------------------------\u001b[0m",
      "\u001b[1;31mValueError\u001b[0m                                Traceback (most recent call last)",
      "Cell \u001b[1;32mIn[25], line 1\u001b[0m\n\u001b[1;32m----> 1\u001b[0m year, month, day, hour, minute, second \u001b[38;5;241m=\u001b[39m \u001b[38;5;28minput\u001b[39m()\u001b[38;5;241m.\u001b[39msplit()\n\u001b[0;32m      4\u001b[0m \u001b[38;5;28mprint\u001b[39m(hour, minute, second, sep\u001b[38;5;241m=\u001b[39m\u001b[38;5;124m'\u001b[39m\u001b[38;5;124m:\u001b[39m\u001b[38;5;124m'\u001b[39m)\n\u001b[0;32m      6\u001b[0m \u001b[38;5;28mprint\u001b[39m(\u001b[38;5;241m1999\u001b[39m, \u001b[38;5;241m12\u001b[39m, \u001b[38;5;241m31\u001b[39m, \u001b[38;5;241m10\u001b[39m, \u001b[38;5;241m37\u001b[39m, \u001b[38;5;241m21\u001b[39m)\n",
      "\u001b[1;31mValueError\u001b[0m: not enough values to unpack (expected 6, got 1)"
     ]
    }
   ],
   "source": [
    "year, month, day, hour, minute, second = input().split()\n",
    "\n",
    "\n",
    "print(hour, minute, second, sep=':')\n",
    "\n",
    "print(1999, 12, 31, 10, 37, 21)"
   ]
  },
  {
   "cell_type": "code",
   "execution_count": null,
   "id": "59868884",
   "metadata": {},
   "outputs": [],
   "source": [
    "print(1 + 1)\n",
    "print"
   ]
  }
 ],
 "metadata": {
  "kernelspec": {
   "display_name": "Python 3 (ipykernel)",
   "language": "python",
   "name": "python3"
  },
  "language_info": {
   "codemirror_mode": {
    "name": "ipython",
    "version": 3
   },
   "file_extension": ".py",
   "mimetype": "text/x-python",
   "name": "python",
   "nbconvert_exporter": "python",
   "pygments_lexer": "ipython3",
   "version": "3.10.9"
  }
 },
 "nbformat": 4,
 "nbformat_minor": 5
}
