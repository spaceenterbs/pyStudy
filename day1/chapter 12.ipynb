{
 "cells": [
  {
   "cell_type": "code",
   "execution_count": 1,
   "id": "de8b2406",
   "metadata": {},
   "outputs": [],
   "source": [
    "lux = [100, 110, 120, 10.5]\n",
    "lux = {'health': 110, 'mana': 110, 'melee': 120, 'armor': 10.5}"
   ]
  },
  {
   "cell_type": "code",
   "execution_count": 2,
   "id": "15ef2530",
   "metadata": {},
   "outputs": [
    {
     "data": {
      "text/plain": [
       "{'health': 110, 'mana': 110, 'melee': 120, 'armor': 10.5}"
      ]
     },
     "execution_count": 2,
     "metadata": {},
     "output_type": "execute_result"
    }
   ],
   "source": [
    "lux"
   ]
  },
  {
   "cell_type": "code",
   "execution_count": 3,
   "id": "f7bf7ae8",
   "metadata": {},
   "outputs": [],
   "source": [
    "x = {100: 'hundred', False: 0, 3.5: [3.5, 3.5]}"
   ]
  },
  {
   "cell_type": "code",
   "execution_count": 4,
   "id": "0771f99c",
   "metadata": {},
   "outputs": [
    {
     "data": {
      "text/plain": [
       "{100: 'hundred', False: 0, 3.5: [3.5, 3.5]}"
      ]
     },
     "execution_count": 4,
     "metadata": {},
     "output_type": "execute_result"
    }
   ],
   "source": [
    "x"
   ]
  },
  {
   "cell_type": "code",
   "execution_count": 5,
   "id": "fd3bc2ad",
   "metadata": {},
   "outputs": [],
   "source": [
    "y = {}"
   ]
  },
  {
   "cell_type": "code",
   "execution_count": 6,
   "id": "e1976081",
   "metadata": {},
   "outputs": [],
   "source": [
    "z = dict()"
   ]
  },
  {
   "cell_type": "code",
   "execution_count": 1,
   "id": "f2b57c22",
   "metadata": {},
   "outputs": [
    {
     "data": {
      "text/plain": [
       "{100: 'hundred', False: 0, 3.5: [3.5, 3.5]}"
      ]
     },
     "execution_count": 1,
     "metadata": {},
     "output_type": "execute_result"
    }
   ],
   "source": [
    "x = {100: 'hundred', False: 0, 3.5: [3.5, 3.5]}\n",
    "x"
   ]
  },
  {
   "cell_type": "code",
   "execution_count": 2,
   "id": "cf51c9ad",
   "metadata": {},
   "outputs": [],
   "source": [
    "# 키에는 리스트와 딕셔너리를 사용할 수 없다.\n",
    "# 키는 딕셔너리를 만들고 나면 문자열로 바뀐다.\n",
    "\n",
    "#list\n",
    "lux = [490, 334, 550, 18.72]"
   ]
  },
  {
   "cell_type": "code",
   "execution_count": 3,
   "id": "78e6e540",
   "metadata": {},
   "outputs": [],
   "source": [
    "#dictionary\n",
    "lux = {'health': 490, 'mana': 334, 'melee': 550, 'armor': 18.72}"
   ]
  },
  {
   "cell_type": "code",
   "execution_count": null,
   "id": "286d0831",
   "metadata": {},
   "outputs": [],
   "source": []
  }
 ],
 "metadata": {
  "kernelspec": {
   "display_name": "Python 3 (ipykernel)",
   "language": "python",
   "name": "python3"
  },
  "language_info": {
   "codemirror_mode": {
    "name": "ipython",
    "version": 3
   },
   "file_extension": ".py",
   "mimetype": "text/x-python",
   "name": "python",
   "nbconvert_exporter": "python",
   "pygments_lexer": "ipython3",
   "version": "3.10.9"
  }
 },
 "nbformat": 4,
 "nbformat_minor": 5
}
