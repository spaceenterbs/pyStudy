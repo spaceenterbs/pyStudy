{
 "cells": [
  {
   "cell_type": "code",
   "execution_count": 1,
   "id": "1aea6a24",
   "metadata": {},
   "outputs": [
    {
     "name": "stdout",
     "output_type": "stream",
     "text": [
      "10입니다.\n"
     ]
    }
   ],
   "source": [
    "# if 조건문\n",
    "#의사 코드(pseudo code) 실제 프로그래밍 언어가 아닌 사람의 언어로 프로그래밍 언어를 표현한 것.\n",
    "x = 10\n",
    "if x == 10:\n",
    "    print('10입니다.')"
   ]
  },
  {
   "cell_type": "code",
   "execution_count": 3,
   "id": "fac47e1b",
   "metadata": {},
   "outputs": [],
   "source": [
    "if x == 10:\n",
    "    pass # TODO: x가 10일 때 처리가 필요함 FIXME, BUG, Note 같은 주석을 사용한다."
   ]
  },
  {
   "cell_type": "code",
   "execution_count": 4,
   "id": "aa96249d",
   "metadata": {},
   "outputs": [],
   "source": [
    "# 파이썬에서 :이 나오면 그 다음 줄부터는 무조건 들여쓰기를 한다."
   ]
  },
  {
   "cell_type": "code",
   "execution_count": 6,
   "id": "c943f313",
   "metadata": {},
   "outputs": [
    {
     "name": "stdout",
     "output_type": "stream",
     "text": [
      "10 이상입니다.\n",
      "15입니다.\n"
     ]
    }
   ],
   "source": [
    "x  = 15\n",
    "\n",
    "if x >= 10:\n",
    "    print('10 이상입니다.')\n",
    "    \n",
    "    if x == 15:\n",
    "        print('15입니다.')\n",
    "        \n",
    "    if x == 20:\n",
    "        print('20입니다.')"
   ]
  },
  {
   "cell_type": "code",
   "execution_count": 8,
   "id": "c862933a",
   "metadata": {},
   "outputs": [
    {
     "name": "stdout",
     "output_type": "stream",
     "text": [
      "10\n",
      "10입니다.\n"
     ]
    }
   ],
   "source": [
    "x = int(input())\n",
    "\n",
    "if x == 10:\n",
    "    print('10입니다.')\n",
    "if x == 20:\n",
    "    print('20입니다.')"
   ]
  },
  {
   "cell_type": "code",
   "execution_count": 1,
   "id": "eaef3fa7",
   "metadata": {},
   "outputs": [
    {
     "name": "stdout",
     "output_type": "stream",
     "text": [
      "ok\n"
     ]
    }
   ],
   "source": [
    "'''\n",
    "1. c, d\n",
    "2. c, j\n",
    "'''\n",
    "x = 5\n",
    "\n",
    "if x != 10:\n",
    "    print('ok')"
   ]
  },
  {
   "cell_type": "code",
   "execution_count": 2,
   "id": "67d31156",
   "metadata": {},
   "outputs": [
    {
     "name": "stdout",
     "output_type": "stream",
     "text": [
      "27000\n",
      "Cash3000\n",
      "24000\n"
     ]
    }
   ],
   "source": [
    "a = int(input())\n",
    "b = input()\n",
    "\n",
    "if b == 'Cash3000':\n",
    "    a -= 3000\n",
    "if b == 'Cash5000':\n",
    "    a -= 5000\n",
    "    \n",
    "print(a)"
   ]
  },
  {
   "cell_type": "code",
   "execution_count": null,
   "id": "793a33c3",
   "metadata": {},
   "outputs": [],
   "source": []
  },
  {
   "cell_type": "code",
   "execution_count": null,
   "id": "0f0b9889",
   "metadata": {},
   "outputs": [],
   "source": []
  },
  {
   "cell_type": "code",
   "execution_count": null,
   "id": "fff91a1b",
   "metadata": {},
   "outputs": [],
   "source": []
  },
  {
   "cell_type": "code",
   "execution_count": null,
   "id": "74373eee",
   "metadata": {},
   "outputs": [],
   "source": []
  }
 ],
 "metadata": {
  "kernelspec": {
   "display_name": "Python 3 (ipykernel)",
   "language": "python",
   "name": "python3"
  },
  "language_info": {
   "codemirror_mode": {
    "name": "ipython",
    "version": 3
   },
   "file_extension": ".py",
   "mimetype": "text/x-python",
   "name": "python",
   "nbconvert_exporter": "python",
   "pygments_lexer": "ipython3",
   "version": "3.10.9"
  }
 },
 "nbformat": 4,
 "nbformat_minor": 5
}
