{
 "cells": [
  {
   "cell_type": "code",
   "execution_count": 1,
   "id": "52357c58",
   "metadata": {},
   "outputs": [
    {
     "name": "stdout",
     "output_type": "stream",
     "text": [
      "No\n",
      "way!\n"
     ]
    }
   ],
   "source": [
    "print('No'); print('way!')"
   ]
  },
  {
   "cell_type": "code",
   "execution_count": 2,
   "id": "416618ed",
   "metadata": {},
   "outputs": [
    {
     "name": "stdout",
     "output_type": "stream",
     "text": [
      "such a nice day!\n"
     ]
    }
   ],
   "source": [
    "# print('anotherhell')\n",
    "print('such a nice day!')"
   ]
  },
  {
   "cell_type": "code",
   "execution_count": 3,
   "id": "85bc6882",
   "metadata": {},
   "outputs": [
    {
     "name": "stdout",
     "output_type": "stream",
     "text": [
      "green, grass\n"
     ]
    }
   ],
   "source": [
    "a = 1 + 9 # checks\n",
    "print('green, grass') #print('13579')"
   ]
  },
  {
   "cell_type": "code",
   "execution_count": 4,
   "id": "16e9fe00",
   "metadata": {},
   "outputs": [],
   "source": [
    "a = 2 + 11"
   ]
  },
  {
   "cell_type": "code",
   "execution_count": 5,
   "id": "3a3cdea2",
   "metadata": {},
   "outputs": [
    {
     "data": {
      "text/plain": [
       "13"
      ]
     },
     "execution_count": 5,
     "metadata": {},
     "output_type": "execute_result"
    }
   ],
   "source": [
    "a"
   ]
  },
  {
   "cell_type": "code",
   "execution_count": 6,
   "id": "0d99fefd",
   "metadata": {},
   "outputs": [],
   "source": [
    "# git\n",
    "# add\n",
    "# ."
   ]
  },
  {
   "cell_type": "code",
   "execution_count": 7,
   "id": "1a78c63c",
   "metadata": {},
   "outputs": [
    {
     "ename": "IndentationError",
     "evalue": "expected an indented block after 'if' statement on line 1 (1114690782.py, line 2)",
     "output_type": "error",
     "traceback": [
      "\u001b[1;36m  Cell \u001b[1;32mIn[7], line 2\u001b[1;36m\u001b[0m\n\u001b[1;33m    printf('is 10.') #inline syntax error\u001b[0m\n\u001b[1;37m    ^\u001b[0m\n\u001b[1;31mIndentationError\u001b[0m\u001b[1;31m:\u001b[0m expected an indented block after 'if' statement on line 1\n"
     ]
    }
   ],
   "source": [
    "if a == 10:\n",
    "printf('is 10.') #inline syntax error"
   ]
  },
  {
   "cell_type": "code",
   "execution_count": 11,
   "id": "2275d3bf",
   "metadata": {},
   "outputs": [
    {
     "name": "stdout",
     "output_type": "stream",
     "text": [
      "is 10.\n"
     ]
    }
   ],
   "source": [
    "if a == 10:\n",
    "    print('is 10.')"
   ]
  },
  {
   "cell_type": "code",
   "execution_count": 12,
   "id": "b1a479d4",
   "metadata": {},
   "outputs": [
    {
     "data": {
      "text/plain": [
       "True"
      ]
     },
     "execution_count": 12,
     "metadata": {},
     "output_type": "execute_result"
    }
   ],
   "source": [
    "a == 10"
   ]
  },
  {
   "cell_type": "code",
   "execution_count": null,
   "id": "ee036d9c",
   "metadata": {},
   "outputs": [],
   "source": []
  }
 ],
 "metadata": {
  "kernelspec": {
   "display_name": "Python 3 (ipykernel)",
   "language": "python",
   "name": "python3"
  },
  "language_info": {
   "codemirror_mode": {
    "name": "ipython",
    "version": 3
   },
   "file_extension": ".py",
   "mimetype": "text/x-python",
   "name": "python",
   "nbconvert_exporter": "python",
   "pygments_lexer": "ipython3",
   "version": "3.10.9"
  }
 },
 "nbformat": 4,
 "nbformat_minor": 5
}
