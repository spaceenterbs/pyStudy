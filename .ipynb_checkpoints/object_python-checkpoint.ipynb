{
 "cells": [
  {
   "cell_type": "markdown",
   "id": "abbfd031",
   "metadata": {},
   "source": [
    "### 객체 지향 프로그래밍이란?\n",
    "- 프로그램을 여러 개의 독립된 객체들과 그 객체들 간의 상호작용으로 파악하는 프로그래밍 접근법\n",
    "* 프로그램을 객체들과 객체들 간의 소통으로 바라보는 것!\n",
    "\n",
    "- 게임 캐릭터 객체가 총에게 발사하라고 소통, 그러면 총은 총알을 발사, 총알이 다른 캐릭터에 맞으면 그 총알은 캐릭터에게 체력을 깎으라고 신호를 보낸다.\n",
    "## 모델링(modeling); 객체지향적으로 설계한 것\n",
    "\n",
    "# 객체 지향 프로그래밍으로 프로그램을 만들려면\n",
    "1. 프로그램에 어떤 객체들이 필요할지 정한다\n",
    "2. 객체들의 속성과 행동을 정한다.\n",
    "3. 객체들이 서로 어떻게 소통할지 정한다."
   ]
  },
  {
   "cell_type": "code",
   "execution_count": null,
   "id": "b11a60cd",
   "metadata": {},
   "outputs": [],
   "source": []
  },
  {
   "cell_type": "code",
   "execution_count": null,
   "id": "5107d340",
   "metadata": {},
   "outputs": [],
   "source": []
  },
  {
   "cell_type": "code",
   "execution_count": null,
   "id": "00bc12ee",
   "metadata": {},
   "outputs": [],
   "source": []
  }
 ],
 "metadata": {
  "kernelspec": {
   "display_name": "Python 3 (ipykernel)",
   "language": "python",
   "name": "python3"
  },
  "language_info": {
   "codemirror_mode": {
    "name": "ipython",
    "version": 3
   },
   "file_extension": ".py",
   "mimetype": "text/x-python",
   "name": "python",
   "nbconvert_exporter": "python",
   "pygments_lexer": "ipython3",
   "version": "3.10.9"
  }
 },
 "nbformat": 4,
 "nbformat_minor": 5
}
