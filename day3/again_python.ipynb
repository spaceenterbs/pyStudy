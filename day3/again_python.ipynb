{
 "cells": [
  {
   "cell_type": "code",
   "execution_count": 1,
   "id": "a371c1dd",
   "metadata": {},
   "outputs": [
    {
     "name": "stdout",
     "output_type": "stream",
     "text": [
      "5\n",
      "3\n",
      "[2, 3, 4, 7, 12]\n",
      "[2, 3, 4, 7, 12]\n"
     ]
    },
    {
     "data": {
      "text/plain": [
       "'\\n[2, 3, 4, 7, 11]\\n[2, 3, 4, 7, 11]\\n'"
      ]
     },
     "execution_count": 1,
     "metadata": {},
     "output_type": "execute_result"
    }
   ],
   "source": [
    "# Aliasing\n",
    "x = 5\n",
    "y = x\n",
    "y = 3\n",
    "print(x)\n",
    "print(y)\n",
    "# --==>>\n",
    "'''\n",
    "5\n",
    "3\n",
    "'''\n",
    "\n",
    "a = [2, 3, 5, 7, 12]\n",
    "b = a # a리스트에 b라는 이름표를 달아줌\n",
    "b[2] = 4 # 리스트b의 2번째 자리를 4로 변경 하지만 이 리스트는 a이기도 하고 b이기도 하다!\n",
    "print(a)\n",
    "print(b)\n",
    "#--==>> 그래서 둘다 같은 리스트 출력 여기에서 b는 a의 가명(alias)라고 한다!\n",
    "'''\n",
    "[2, 3, 4, 7, 11]\n",
    "[2, 3, 4, 7, 11]\n",
    "'''"
   ]
  },
  {
   "cell_type": "code",
   "execution_count": null,
   "id": "6536b37f",
   "metadata": {},
   "outputs": [],
   "source": []
  }
 ],
 "metadata": {
  "kernelspec": {
   "display_name": "Python 3 (ipykernel)",
   "language": "python",
   "name": "python3"
  },
  "language_info": {
   "codemirror_mode": {
    "name": "ipython",
    "version": 3
   },
   "file_extension": ".py",
   "mimetype": "text/x-python",
   "name": "python",
   "nbconvert_exporter": "python",
   "pygments_lexer": "ipython3",
   "version": "3.10.9"
  }
 },
 "nbformat": 4,
 "nbformat_minor": 5
}
