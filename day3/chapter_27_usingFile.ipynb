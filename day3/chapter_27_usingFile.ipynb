{
 "cells": [
  {
   "cell_type": "code",
   "execution_count": 1,
   "id": "0c186a03",
   "metadata": {},
   "outputs": [],
   "source": [
    "# 파일 사용하기\n",
    "\n",
    "file = open('hello.txt', 'w') # hello.txt 파일을 쓰기 모드(w)로 열기. 파일 객체 반환"
   ]
  },
  {
   "cell_type": "code",
   "execution_count": 2,
   "id": "79af6bcc",
   "metadata": {},
   "outputs": [],
   "source": [
    "file. write('Hello, world!') # 파일에 문자열 저장\n",
    "file.close() # 파일 객체 닫기"
   ]
  },
  {
   "cell_type": "code",
   "execution_count": null,
   "id": "fb343c76",
   "metadata": {},
   "outputs": [],
   "source": []
  }
 ],
 "metadata": {
  "kernelspec": {
   "display_name": "Python 3 (ipykernel)",
   "language": "python",
   "name": "python3"
  },
  "language_info": {
   "codemirror_mode": {
    "name": "ipython",
    "version": 3
   },
   "file_extension": ".py",
   "mimetype": "text/x-python",
   "name": "python",
   "nbconvert_exporter": "python",
   "pygments_lexer": "ipython3",
   "version": "3.10.9"
  }
 },
 "nbformat": 4,
 "nbformat_minor": 5
}
