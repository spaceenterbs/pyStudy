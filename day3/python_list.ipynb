{
 "cells": [
  {
   "cell_type": "code",
   "execution_count": 1,
   "id": "d4450fa1",
   "metadata": {},
   "outputs": [],
   "source": [
    "# 리스트 함수\n",
    "numbers = []\n",
    "len(numbers) # 리스트에 값이 몇개 있는지\n",
    "numbers.append(5) #리스트에 값 추가"
   ]
  },
  {
   "cell_type": "code",
   "execution_count": 2,
   "id": "19d3ad38",
   "metadata": {},
   "outputs": [
    {
     "name": "stdout",
     "output_type": "stream",
     "text": [
      "안녕\n",
      "니하오\n",
      "곤니찌와\n",
      "올라\n",
      "싸와디캅\n",
      "헬로\n",
      "봉주르\n"
     ]
    }
   ],
   "source": [
    "greetings = [\"안녕\", \"니하오\", \"곤니찌와\", \"올라\", \"싸와디캅\", \"헬로\", \"봉주르\"]\n",
    "start = 0\n",
    "\n",
    "while(start < len(greetings)):\n",
    "    print(greetings[start])\n",
    "    start += 1"
   ]
  },
  {
   "cell_type": "code",
   "execution_count": null,
   "id": "6e767538",
   "metadata": {},
   "outputs": [],
   "source": [
    "def fahrenheit_to_celsius(fahrenheit):\n",
    "    return ((fahrenheit - 32) * 5 / 9\n",
    "           \n",
    "fahrenheit_list = [40, 15, 32, 64, -4, 11]\n",
    "print(\"화씨 온도 리스트: \" + str(fahrenheit_list)\n",
    "\n",
    "i = 0\n",
    "celsius_list = []\n",
    "\n",
    "while i < len(fahrenheit_list):\n",
    "      celsius_list.append(round(fahrenhe"
   ]
  }
 ],
 "metadata": {
  "kernelspec": {
   "display_name": "Python 3 (ipykernel)",
   "language": "python",
   "name": "python3"
  },
  "language_info": {
   "codemirror_mode": {
    "name": "ipython",
    "version": 3
   },
   "file_extension": ".py",
   "mimetype": "text/x-python",
   "name": "python",
   "nbconvert_exporter": "python",
   "pygments_lexer": "ipython3",
   "version": "3.10.9"
  }
 },
 "nbformat": 4,
 "nbformat_minor": 5
}
