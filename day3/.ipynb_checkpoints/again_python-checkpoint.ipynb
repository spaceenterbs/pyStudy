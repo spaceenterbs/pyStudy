{
 "cells": [
  {
   "cell_type": "code",
   "execution_count": 7,
   "id": "9522ce1c",
   "metadata": {},
   "outputs": [
    {
     "name": "stdout",
     "output_type": "stream",
     "text": [
      "<class 'dict'>\n",
      "9\n",
      "{5: 25, 2: 4, 3: 9, 9: 81}\n",
      "{'mom': 'kim', 'dad': 'lee', 'son': 'son', 'daughter': 'park'}\n",
      "kim\n"
     ]
    }
   ],
   "source": [
    "# 사전; dictionary () 중괄호를 열고 닫으면 사전임\n",
    "# key-value pair (키 값 쌍)\n",
    "my_dictionary = {\n",
    "    5: 25, # 키가 5이고 값이 25이다.\n",
    "    2: 4,\n",
    "    3: 9\n",
    "}\n",
    "print(type(my_dictionary))\n",
    "#--==>> <class 'dict'>\n",
    "\n",
    "print(my_dictionary[3])\n",
    "#--==>> 9\n",
    "\n",
    "# 새로운 쌍을 추가하고 싶을때\n",
    "my_dictionary[9] = 81 # 9에 81 추가\n",
    "print(my_dictionary)\n",
    "#--==>> {5: 25, 2: 4, 3: 9, 9: 81}\n",
    "\n",
    "# 리스트와 사전의 차이점\n",
    "# 리스트의 인덱스가 순서대로 출력 / 리스트의 인덱스는 정수값\n",
    "# 사전은 순서라는 개념이 없다. / 사전의 키는 정수형일 필요가 없다\n",
    "\n",
    "my_family = {\n",
    "    'mom': 'kim',\n",
    "    'dad': 'lee',\n",
    "    'son': 'son',\n",
    "    'daughter': 'park'\n",
    "}\n",
    "\n",
    "print(my_family)\n",
    "#--==>> {'mom': 'kim', 'dad': 'lee', 'son': 'son', 'daughter': 'park'}\n",
    "print(my_family['mom'])\n",
    "#--==>> kim"
   ]
  },
  {
   "cell_type": "code",
   "execution_count": 8,
   "id": "f3a149a9",
   "metadata": {},
   "outputs": [
    {
     "name": "stdout",
     "output_type": "stream",
     "text": [
      "{'sanitizer': '살균제', 'ambition': '야망', 'conscience': '양심', 'civilization': '문명'}\n",
      "문명\n"
     ]
    }
   ],
   "source": [
    "vocab = {\n",
    "    'sanitizer': '살균제',\n",
    "    'ambition': '야망',\n",
    "    'conscience': '양심',\n",
    "    'civilization': '문명'\n",
    "}\n",
    "\n",
    "print(vocab)\n",
    "print(vocab['civilization'])"
   ]
  },
  {
   "cell_type": "code",
   "execution_count": 10,
   "id": "5a24878e",
   "metadata": {},
   "outputs": [
    {
     "name": "stdout",
     "output_type": "stream",
     "text": [
      "{'sanitizer': '살균제', 'ambition': '야망', 'conscience': '양심', 'civilization': '문명', 'privilege': '특권', 'principle': '원칙'}\n"
     ]
    }
   ],
   "source": [
    "vocab['privilege'] = '특권'\n",
    "vocab['principle'] = '원칙'\n",
    "\n",
    "print(vocab)"
   ]
  },
  {
   "cell_type": "code",
   "execution_count": 11,
   "id": "d078446a",
   "metadata": {},
   "outputs": [
    {
     "name": "stdout",
     "output_type": "stream",
     "text": [
      "dict_values(['살균제', '야망', '양심', '문명', '특권', '원칙'])\n"
     ]
    }
   ],
   "source": [
    "print(vocab.values())"
   ]
  },
  {
   "cell_type": "code",
   "execution_count": 13,
   "id": "e9b3f485",
   "metadata": {},
   "outputs": [
    {
     "name": "stdout",
     "output_type": "stream",
     "text": [
      "True\n",
      "False\n"
     ]
    }
   ],
   "source": [
    "print('특권' in vocab.values())\n",
    "print('투칙' in vocab.values())"
   ]
  },
  {
   "cell_type": "code",
   "execution_count": 14,
   "id": "8dd80939",
   "metadata": {},
   "outputs": [
    {
     "name": "stdout",
     "output_type": "stream",
     "text": [
      "살균제\n",
      "야망\n",
      "양심\n",
      "문명\n",
      "특권\n",
      "원칙\n"
     ]
    }
   ],
   "source": [
    "for value in vocab.values():\n",
    "    print(value)"
   ]
  },
  {
   "cell_type": "code",
   "execution_count": 15,
   "id": "9a1c2e92",
   "metadata": {},
   "outputs": [
    {
     "name": "stdout",
     "output_type": "stream",
     "text": [
      "dict_keys(['sanitizer', 'ambition', 'conscience', 'civilization', 'privilege', 'principle'])\n"
     ]
    }
   ],
   "source": [
    "print(vocab.keys())"
   ]
  },
  {
   "cell_type": "code",
   "execution_count": 16,
   "id": "fd87c21e",
   "metadata": {},
   "outputs": [
    {
     "name": "stdout",
     "output_type": "stream",
     "text": [
      "sanitizer\n",
      "ambition\n",
      "conscience\n",
      "civilization\n",
      "privilege\n",
      "principle\n"
     ]
    }
   ],
   "source": [
    "for key in vocab.keys():\n",
    "    print(key)"
   ]
  },
  {
   "cell_type": "code",
   "execution_count": 18,
   "id": "f158a3ef",
   "metadata": {},
   "outputs": [
    {
     "name": "stdout",
     "output_type": "stream",
     "text": [
      "sanitizer 살균제\n",
      "ambition 야망\n",
      "conscience 양심\n",
      "civilization 문명\n",
      "privilege 특권\n",
      "principle 원칙\n"
     ]
    }
   ],
   "source": [
    "for key in vocab.keys():\n",
    "    value = vocab[key]\n",
    "    print(key, value)"
   ]
  },
  {
   "cell_type": "code",
   "execution_count": 19,
   "id": "e23fa071",
   "metadata": {},
   "outputs": [
    {
     "name": "stdout",
     "output_type": "stream",
     "text": [
      "sanitizer 살균제\n",
      "ambition 야망\n",
      "conscience 양심\n",
      "civilization 문명\n",
      "privilege 특권\n",
      "principle 원칙\n"
     ]
    }
   ],
   "source": [
    "for key, value in vocab.items():\n",
    "    print(key, value)"
   ]
  },
  {
   "cell_type": "code",
   "execution_count": 25,
   "id": "053577b3",
   "metadata": {},
   "outputs": [
    {
     "name": "stdout",
     "output_type": "stream",
     "text": [
      "영-한 단어장\n",
      "{'sanitizer': '살균제', 'ambition': '야망', 'conscience': '양심', 'civilization': '문명', 'privilege': '특권', 'principles': '원칙'}\n",
      "\n",
      "한-영 단어장\n",
      "{}\n",
      "\n",
      "영-한 단어장\n",
      "{'sanitizer': '살균제', 'ambition': '야망', 'conscience': '양심', 'civilization': '문명', 'privilege': '특권', 'principles': '원칙'}\n",
      "\n",
      "한-영 단어장\n",
      "{'살균제': 'sanitizer', '야망': 'ambition', '양심': 'conscience', '문명': 'civilization', '특권': 'privilege', '원칙': 'principles'}\n",
      "\n"
     ]
    }
   ],
   "source": [
    "# 언어 사전의 단어와 뜻을 바꿔주는 함수\n",
    "def reverse_dict(dict):\n",
    "    new_dict = {} # 새로운 함수\n",
    "    \n",
    "    # dict의 key와 value를 뒤집어서 new_dict에 저장\n",
    "    # 코드를 입력하세요.\n",
    "    \n",
    "    return new_dict # 변환한 새로운 사전 리턴\n",
    "\n",
    "# 영-한 단어장\n",
    "vocab = {\n",
    "    'sanitizer': '살균제',\n",
    "    'ambition': '야망',\n",
    "    'conscience': '양심',\n",
    "    'civilization': '문명',\n",
    "    'privilege': '특권',\n",
    "    'principles': '원칙'\n",
    "}\n",
    "\n",
    "# 기존 단어장 출력\n",
    "print(\"영-한 단어장\\n{}\\n\".format(vocab))\n",
    "\n",
    "# 변환된 단어장 출력\n",
    "reversed_vocab = reverse_dict(vocab)\n",
    "print(\"한-영 단어장\\n{}\\n\".format(reversed_vocab))\n",
    "\n",
    "# 언어 사전의 단어와 뜻을 서로 바꿔주는 함수\n",
    "def reverse_dict(dict):\n",
    "    new_dict = {} # 새로운 함수\n",
    "    \n",
    "    # dict의 key와 value를 뒤집어서 new_dict에 저장\n",
    "    for key, value in dict.items():\n",
    "        new_dict[value] = key\n",
    "        \n",
    "    return new_dict # 변환한 새로운 사전 리턴\n",
    "\n",
    "# 영-한 단어장\n",
    "vocab = {\n",
    "        'sanitizer': '살균제',\n",
    "    'ambition': '야망',\n",
    "    'conscience': '양심',\n",
    "    'civilization': '문명',\n",
    "    'privilege': '특권',\n",
    "    'principles': '원칙'\n",
    "}\n",
    "\n",
    "# 기존 단어장 출력\n",
    "print(\"영-한 단어장\\n{}\\n\".format(vocab))\n",
    "\n",
    "# 변환된 단어장 출력\n",
    "reversed_vocab = reverse_dict(vocab)\n",
    "print(\"한-영 단어장\\n{}\\n\".format(reversed_vocab))"
   ]
  },
  {
   "cell_type": "code",
   "execution_count": 31,
   "id": "b71ae2c6",
   "metadata": {},
   "outputs": [
    {
     "name": "stdout",
     "output_type": "stream",
     "text": [
      "{'김영자': 11, '강승기': 6, '최만수': 8}\n"
     ]
    }
   ],
   "source": [
    "# 투표 결과 리스트\n",
    "votes = ['김영자', '강승기', '최만수', '김영자', '강승기', '강승기', '최만수', '김영자', '최만수', '김영자', '최만수', '김영자', '김영자', '최만수', '최만수', '최만수', '강승기',\n",
    "         '강승기', '김영자', '김영자', '최만수', '김영자', '김영자', '강승기', '김영자']\n",
    "\n",
    "# 후보별 득표수 사전\n",
    "vote_counter = {}\n",
    "\n",
    "#리스트 votes를 이용해서 사전 vote_counter를 정리하기\n",
    "for name in votes:\n",
    "    # 코드 작성하기\n",
    "    if name not in vote_counter:\n",
    "        vote_counter[name] = 1\n",
    "    else:\n",
    "        vote_counter[name] += 1\n",
    "    \n",
    "# 후보별 득표수 출력\n",
    "print(vote_counter)\n",
    "#--==>> {'김영자': 11. '강승기': 6, '최만수': 8}"
   ]
  },
  {
   "cell_type": "code",
   "execution_count": null,
   "id": "5a3ef528",
   "metadata": {},
   "outputs": [],
   "source": []
  },
  {
   "cell_type": "code",
   "execution_count": null,
   "id": "ebd90a69",
   "metadata": {},
   "outputs": [],
   "source": []
  },
  {
   "cell_type": "code",
   "execution_count": null,
   "id": "d0589916",
   "metadata": {},
   "outputs": [],
   "source": []
  },
  {
   "cell_type": "code",
   "execution_count": null,
   "id": "98fb93bc",
   "metadata": {},
   "outputs": [],
   "source": []
  },
  {
   "cell_type": "code",
   "execution_count": null,
   "id": "df8db187",
   "metadata": {},
   "outputs": [],
   "source": []
  },
  {
   "cell_type": "code",
   "execution_count": null,
   "id": "61922541",
   "metadata": {},
   "outputs": [],
   "source": []
  },
  {
   "cell_type": "code",
   "execution_count": null,
   "id": "fe51ef67",
   "metadata": {},
   "outputs": [],
   "source": []
  },
  {
   "cell_type": "code",
   "execution_count": null,
   "id": "7835daf3",
   "metadata": {},
   "outputs": [],
   "source": []
  },
  {
   "cell_type": "code",
   "execution_count": null,
   "id": "48e51bf9",
   "metadata": {},
   "outputs": [],
   "source": []
  },
  {
   "cell_type": "code",
   "execution_count": null,
   "id": "2f3d4704",
   "metadata": {},
   "outputs": [],
   "source": []
  },
  {
   "cell_type": "code",
   "execution_count": null,
   "id": "45877f17",
   "metadata": {},
   "outputs": [],
   "source": []
  },
  {
   "cell_type": "code",
   "execution_count": null,
   "id": "355d3f08",
   "metadata": {},
   "outputs": [],
   "source": []
  },
  {
   "cell_type": "code",
   "execution_count": null,
   "id": "6c850adf",
   "metadata": {},
   "outputs": [],
   "source": []
  },
  {
   "cell_type": "code",
   "execution_count": null,
   "id": "aced910a",
   "metadata": {},
   "outputs": [],
   "source": []
  },
  {
   "cell_type": "code",
   "execution_count": null,
   "id": "4dd34399",
   "metadata": {},
   "outputs": [],
   "source": []
  },
  {
   "cell_type": "code",
   "execution_count": null,
   "id": "91e5c232",
   "metadata": {},
   "outputs": [],
   "source": []
  },
  {
   "cell_type": "code",
   "execution_count": null,
   "id": "88051ba3",
   "metadata": {},
   "outputs": [],
   "source": []
  },
  {
   "cell_type": "code",
   "execution_count": null,
   "id": "71272f08",
   "metadata": {},
   "outputs": [],
   "source": []
  },
  {
   "cell_type": "code",
   "execution_count": null,
   "id": "15f5412a",
   "metadata": {},
   "outputs": [],
   "source": []
  },
  {
   "cell_type": "code",
   "execution_count": 1,
   "id": "a371c1dd",
   "metadata": {},
   "outputs": [
    {
     "name": "stdout",
     "output_type": "stream",
     "text": [
      "5\n",
      "3\n",
      "[2, 3, 4, 7, 12]\n",
      "[2, 3, 4, 7, 12]\n"
     ]
    },
    {
     "data": {
      "text/plain": [
       "'\\n[2, 3, 4, 7, 11]\\n[2, 3, 4, 7, 11]\\n'"
      ]
     },
     "execution_count": 1,
     "metadata": {},
     "output_type": "execute_result"
    }
   ],
   "source": [
    "# Aliasing\n",
    "x = 5\n",
    "y = x\n",
    "y = 3\n",
    "print(x)\n",
    "print(y)\n",
    "# --==>>\n",
    "'''\n",
    "5\n",
    "3\n",
    "'''\n",
    "\n",
    "a = [2, 3, 5, 7, 12]\n",
    "b = a # a리스트에 b라는 이름표를 달아줌\n",
    "b[2] = 4 # 리스트b의 2번째 자리를 4로 변경 하지만 이 리스트는 a이기도 하고 b이기도 하다!\n",
    "print(a)\n",
    "print(b)\n",
    "#--==>> 그래서 둘다 같은 리스트 출력 여기에서 b는 a의 가명(alias)라고 한다!\n",
    "'''\n",
    "[2, 3, 4, 7, 11]\n",
    "[2, 3, 4, 7, 11]\n",
    "'''"
   ]
  },
  {
   "cell_type": "code",
   "execution_count": 1,
   "id": "6536b37f",
   "metadata": {},
   "outputs": [
    {
     "name": "stdout",
     "output_type": "stream",
     "text": [
      "[2, 3, 5, 7, 11]\n",
      "[2, 3, 4, 7, 11]\n"
     ]
    },
    {
     "data": {
      "text/plain": [
       "'\\n[2, 3, 5, 7, 11]\\n[2, 3, 4, 7, 11]\\n'"
      ]
     },
     "execution_count": 1,
     "metadata": {},
     "output_type": "execute_result"
    }
   ],
   "source": [
    "# 그렇다면 b를 바꾸면서 a의 값을 그대로 유지하는 방법은?\n",
    "\n",
    "a = [2, 3, 5, 7, 11] # 이 리스트에 a의 이름표가 달림\n",
    "b = list(a)\n",
    "# list 함수 때문에 새로운 리스트가 그대로 복사되어 새로운 리스트를 만든다.\n",
    "# 여기서 list 합수의 역할은 새로운 리스트를 복사해주는 것이다.\n",
    "b[2] = 4\n",
    "print(a)\n",
    "print(b)\n",
    "#--==>> b리스트만 바뀐다.\n",
    "'''\n",
    "[2, 3, 5, 7, 11]\n",
    "[2, 3, 4, 7, 11]\n",
    "'''\n",
    "\n"
   ]
  },
  {
   "cell_type": "code",
   "execution_count": null,
   "id": "5411141e",
   "metadata": {},
   "outputs": [],
   "source": []
  }
 ],
 "metadata": {
  "kernelspec": {
   "display_name": "Python 3 (ipykernel)",
   "language": "python",
   "name": "python3"
  },
  "language_info": {
   "codemirror_mode": {
    "name": "ipython",
    "version": 3
   },
   "file_extension": ".py",
   "mimetype": "text/x-python",
   "name": "python",
   "nbconvert_exporter": "python",
   "pygments_lexer": "ipython3",
   "version": "3.10.9"
  }
 },
 "nbformat": 4,
 "nbformat_minor": 5
}
