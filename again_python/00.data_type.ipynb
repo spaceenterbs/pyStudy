{
 "cells": [
  {
   "cell_type": "code",
   "execution_count": 1,
   "id": "f9933aa8",
   "metadata": {},
   "outputs": [
    {
     "name": "stdout",
     "output_type": "stream",
     "text": [
      "오늘은 2023년 6월 20일 입니다.\n"
     ]
    }
   ],
   "source": [
    "# 자료형\n",
    "\n",
    "'''\n",
    "정수형, 정수형의 계산: 정수형\n",
    "소수형, 소수형의 계산: 소수형\n",
    "정수형, 소수형의 계산: 소수형\n",
    "단, 나눗셈의 계산은 언제나 소수형의 결과값\n",
    "'''\n",
    "#5. Format 을 이용한 문자열 포맷팅\n",
    "\n",
    "y = 2023\n",
    "m = 6\n",
    "d = 20\n",
    "print(\"오늘은 \" + str(y) + \"년 \" + str(m) + \"월 \" + str(d) + \"일 입니다.\") # str은 str끼리 더해서 출력"
   ]
  },
  {
   "cell_type": "code",
   "execution_count": 2,
   "id": "fade99e6",
   "metadata": {},
   "outputs": [
    {
     "name": "stdout",
     "output_type": "stream",
     "text": [
      "오늘은 2023년 6월 20일입니다.\n"
     ]
    }
   ],
   "source": [
    "y = 2023\n",
    "m = 6\n",
    "d = 20\n",
    "print(\"오늘은 {}년 {}월 {}일입니다.\".format(y, m, d)) # format에 따라 {} 순서대로 출력"
   ]
  },
  {
   "cell_type": "code",
   "execution_count": 4,
   "id": "a6fd5f6b",
   "metadata": {},
   "outputs": [
    {
     "name": "stdout",
     "output_type": "stream",
     "text": [
      "오늘은 2023년 6월 20일 입니다.\n"
     ]
    }
   ],
   "source": [
    "y = 2023\n",
    "m = 6\n",
    "d = 20\n",
    "date_string = \"오늘은 {}년 {}월 {}일 입니다.\"\n",
    "print(date_string.format(y, m, d)) # date_string 변수에 문자열을 넣고 format으로 넣어 줌."
   ]
  },
  {
   "cell_type": "code",
   "execution_count": 5,
   "id": "26f2958c",
   "metadata": {},
   "outputs": [
    {
     "name": "stdout",
     "output_type": "stream",
     "text": [
      "메다카의 종류는 삼색, 시로부치, 밤벚꽃 등이 있습니다\n"
     ]
    }
   ],
   "source": [
    "print(\"메다카의 종류는 {2}, {0}, {1} 등이 있습니다\".format(\"시로부치\", \"밤벚꽃\", \"삼색\")) # 인덱스 번호 순서대로 출력."
   ]
  },
  {
   "cell_type": "code",
   "execution_count": 9,
   "id": "7f52291a",
   "metadata": {},
   "outputs": [
    {
     "name": "stdout",
     "output_type": "stream",
     "text": [
      "제 이름은 kim이고 32살입니다.\n"
     ]
    }
   ],
   "source": [
    "# 현재 가장 많이 쓰는 방식 (format 메소드)\n",
    "name = \"kim\"\n",
    "age = 32\n",
    "print(\"제 이름은 {}이고 {}살입니다.\".format(name, age)) # format에 변수 할당"
   ]
  },
  {
   "cell_type": "code",
   "execution_count": 10,
   "id": "3c2bc476",
   "metadata": {},
   "outputs": [
    {
     "name": "stdout",
     "output_type": "stream",
     "text": [
      "제 이름은 lee이고 32살입니다.\n"
     ]
    }
   ],
   "source": [
    "# 새로운 방식 (f-string)\n",
    "name = \"lee\"\n",
    "age = 32\n",
    "print(f\"제 이름은 {name}이고 {age}살입니다.\") # 문자열 앞에 f를 넣고 변수 명을 {} 안에 써준다."
   ]
  },
  {
   "cell_type": "code",
   "execution_count": 12,
   "id": "b48f7c9e",
   "metadata": {},
   "outputs": [
    {
     "name": "stdout",
     "output_type": "stream",
     "text": [
      "1시간에 5 벌었습니다.\n",
      "5시간에 25 달러 벌었습니다.\n",
      "1시간에 5710.8 원 벌었습니다.\n",
      "5시간에 28554.0 원 벌었습니다.\n"
     ]
    }
   ],
   "source": [
    "# 문자열 포맷팅 연습\n",
    "wage = 5 # 1시간 임금\n",
    "exchange_rate = 1142.16 # 1달러를 한국 돈으로 바꾸면 얼마인지 나타내는 값(환율)\n",
    "\n",
    "#--==>> 1시간에 5달러 벌었습니다. wage * 1\n",
    "#--==>> 5시간에 25달러 벌었습니다. wage * 5\n",
    "#--==>> 1시간에 5710.8원 벌었습니다. wage * 1 * exchange_rate\n",
    "#--==>> 5시간에 28554.0원 벌었습니다. wage * 5 * exchange_rate\n",
    "print(f'1시간에 {wage} 벌었습니다.'\n",
    "     f'\\n5시간에 {wage * 5} 달러 벌었습니다.'\n",
    "     f'\\n1시간에 {wage * exchange_rate} 원 벌었습니다.'\n",
    "      f'\\n5시간에 {wage * exchange_rate * 5} 원 벌었습니다.')"
   ]
  },
  {
   "cell_type": "code",
   "execution_count": 13,
   "id": "9e69ff78",
   "metadata": {},
   "outputs": [
    {
     "name": "stdout",
     "output_type": "stream",
     "text": [
      "1시간에 5달러 벌었습니다.\n",
      "5시간에 25달러 벌었습니다.\n",
      "1시간에 5710.8원 벌었습니다.\n",
      "5시간에 28554.0원 벌었습니다.\n"
     ]
    }
   ],
   "source": [
    "wage = 5 # 1시간 임금\n",
    "exchange_rate = 1142.16 # 1달러를 한국 돈으로 바꾸면 얼마인지 나타내는 값(환율)\n",
    "\n",
    "print(\"{}시간에 {}{} 벌었습니다.\".format(1, wage * 1, \"달러\")) # 시간, 금액, 달러나 원화 만이 변하기에 3개가 변수.\n",
    "print(\"{}시간에 {}{} 벌었습니다.\".format(5, wage * 5, \"달러\"))\n",
    "print(\"{}시간에 {:.1f}{} 벌었습니다.\".format(1, wage * 1 * exchange_rate, \"원\"))\n",
    "print(\"{}시간에 {:.1f}{} 벌었습니다.\".format(5, wage * 5 * exchange_rate, \"원\"))"
   ]
  },
  {
   "cell_type": "code",
   "execution_count": 14,
   "id": "4f81bacc",
   "metadata": {},
   "outputs": [
    {
     "name": "stdout",
     "output_type": "stream",
     "text": [
      "1 나누기 3은 0.3333333333333333입니다.\n"
     ]
    }
   ],
   "source": [
    "# format 다루기\n",
    "num_1 = 1\n",
    "num_2 = 3\n",
    "print(\"{0} 나누기 {1}은 {2}입니다.\".format(num_1, num_2, num_1/num_2)) # format 안에 계산을 넣음."
   ]
  },
  {
   "cell_type": "code",
   "execution_count": 17,
   "id": "ae9b1a3d",
   "metadata": {},
   "outputs": [
    {
     "name": "stdout",
     "output_type": "stream",
     "text": [
      "1 나누기 3은 0.33입니다.\n"
     ]
    }
   ],
   "source": [
    "print(\"{0} 나누기 {1}은 {2:.2f}입니다.\".format (num_1, num_2, num_1 / num_2)) # {2:.2f}는 2번 인덱스의 2번째 소수점을 말함."
   ]
  },
  {
   "cell_type": "code",
   "execution_count": 18,
   "id": "e6eddd48",
   "metadata": {},
   "outputs": [
    {
     "name": "stdout",
     "output_type": "stream",
     "text": [
      "<class 'function'>\n",
      "<class 'builtin_function_or_method'>\n"
     ]
    }
   ],
   "source": [
    "def hello():\n",
    "    print(\"Hello world!\")\n",
    "print(type(hello)) # 파이썬은 함수도 하나의 형임\n",
    "print(type(print)) # 파이썬에 기본적으로 내장된 함수라는 뜻"
   ]
  },
  {
   "cell_type": "code",
   "execution_count": null,
   "id": "1e37eca5",
   "metadata": {},
   "outputs": [],
   "source": []
  }
 ],
 "metadata": {
  "kernelspec": {
   "display_name": "Python 3 (ipykernel)",
   "language": "python",
   "name": "python3"
  },
  "language_info": {
   "codemirror_mode": {
    "name": "ipython",
    "version": 3
   },
   "file_extension": ".py",
   "mimetype": "text/x-python",
   "name": "python",
   "nbconvert_exporter": "python",
   "pygments_lexer": "ipython3",
   "version": "3.10.9"
  }
 },
 "nbformat": 4,
 "nbformat_minor": 5
}
