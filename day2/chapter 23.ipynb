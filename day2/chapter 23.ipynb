{
 "cells": [
  {
   "cell_type": "code",
   "execution_count": 1,
   "id": "383ffb88",
   "metadata": {},
   "outputs": [
    {
     "data": {
      "text/plain": [
       "[[10, 20], [30, 40], [50, 60]]"
      ]
     },
     "execution_count": 1,
     "metadata": {},
     "output_type": "execute_result"
    }
   ],
   "source": [
    "a = [[10, 20], [30, 40], [50, 60]]\n",
    "a"
   ]
  },
  {
   "cell_type": "code",
   "execution_count": 4,
   "id": "985263b5",
   "metadata": {},
   "outputs": [
    {
     "data": {
      "text/plain": [
       "[[10, 20], [30, 40], [50, 60]]"
      ]
     },
     "execution_count": 4,
     "metadata": {},
     "output_type": "execute_result"
    }
   ],
   "source": [
    "a = [[10, 20],\n",
    "    [30, 40],\n",
    "    [50, 60]]\n",
    "a"
   ]
  },
  {
   "cell_type": "code",
   "execution_count": 5,
   "id": "639e8fc0",
   "metadata": {},
   "outputs": [],
   "source": [
    "a = [[10, 20],\n",
    "    [500, 600, 700],\n",
    "    [9],\n",
    "    [30, 40],\n",
    "    [8],\n",
    "    [800, 900, 1000]]"
   ]
  },
  {
   "cell_type": "code",
   "execution_count": 6,
   "id": "60407784",
   "metadata": {},
   "outputs": [
    {
     "data": {
      "text/plain": [
       "[[10, 20], [500, 600, 700], [9], [30, 40], [8], [800, 900, 1000]]"
      ]
     },
     "execution_count": 6,
     "metadata": {},
     "output_type": "execute_result"
    }
   ],
   "source": [
    "a"
   ]
  },
  {
   "cell_type": "code",
   "execution_count": 7,
   "id": "59ac04a6",
   "metadata": {},
   "outputs": [
    {
     "data": {
      "text/plain": [
       "[[10, 20], [500, 600, 700]]"
      ]
     },
     "execution_count": 7,
     "metadata": {},
     "output_type": "execute_result"
    }
   ],
   "source": [
    "a = []\n",
    "a.append([])\n",
    "a[0].append(10)\n",
    "a[0].append(20)\n",
    "a.append([])\n",
    "a[1].append(500)\n",
    "a[1].append(600)\n",
    "a[1].append(700)\n",
    "a"
   ]
  },
  {
   "cell_type": "code",
   "execution_count": 14,
   "id": "124c112c",
   "metadata": {},
   "outputs": [],
   "source": [
    "a = ((10, 20), (30, 40), (50, 60))\n",
    "b = ([10, 20], [30, 40], [50, 60])\n",
    "c = [(10, 20), (30, 40), (50, 60)]"
   ]
  },
  {
   "cell_type": "code",
   "execution_count": 15,
   "id": "b3667809",
   "metadata": {},
   "outputs": [
    {
     "data": {
      "text/plain": [
       "((10, 20), (30, 40), (50, 60))"
      ]
     },
     "execution_count": 15,
     "metadata": {},
     "output_type": "execute_result"
    }
   ],
   "source": [
    "a"
   ]
  },
  {
   "cell_type": "code",
   "execution_count": 18,
   "id": "ec26b5f9",
   "metadata": {},
   "outputs": [
    {
     "data": {
      "text/plain": [
       "([10, 20], [30, 40], [50, 60])"
      ]
     },
     "execution_count": 18,
     "metadata": {},
     "output_type": "execute_result"
    }
   ],
   "source": [
    "b"
   ]
  },
  {
   "cell_type": "code",
   "execution_count": 17,
   "id": "8ecf186a",
   "metadata": {},
   "outputs": [
    {
     "data": {
      "text/plain": [
       "[(10, 20), (30, 40), (50, 60)]"
      ]
     },
     "execution_count": 17,
     "metadata": {},
     "output_type": "execute_result"
    }
   ],
   "source": [
    "c"
   ]
  },
  {
   "cell_type": "code",
   "execution_count": 24,
   "id": "f1b9726e",
   "metadata": {},
   "outputs": [],
   "source": [
    "# a[0][0] = 500 # 안쪽 튜플은 변경할 수 없음.\n",
    "# a[0] = (500, 600) # 바깥쪽 튜플은 변경할 수 없음.\n",
    "\n",
    "# b[0][0] = 500 # 안쪽 리스트는 변경할 수 있음.\n",
    "\n",
    "# b[0] = (500, 600) # 바깥쪽 튜플은 변경할 수 없음.\n",
    "# c[0][0] = 500 # 안쪽 튜플은 변경할 수 없음.\n",
    "\n",
    "c[0] = (500, 600) # 바깥쪽 리스트는 변경할 수 있음."
   ]
  },
  {
   "cell_type": "code",
   "execution_count": 25,
   "id": "8507f0d2",
   "metadata": {},
   "outputs": [
    {
     "name": "stdout",
     "output_type": "stream",
     "text": [
      "((10, 20), (30, 40), (50, 60))\n",
      "([500, 20], [30, 40], [50, 60])\n",
      "[(500, 600), (30, 40), (50, 60)]\n"
     ]
    }
   ],
   "source": [
    "print(a)\n",
    "print(b)\n",
    "print(c)"
   ]
  },
  {
   "cell_type": "code",
   "execution_count": 27,
   "id": "e99d9045",
   "metadata": {},
   "outputs": [
    {
     "data": {
      "text/plain": [
       "[[10, 20], [30, 40], [50, 60]]"
      ]
     },
     "execution_count": 27,
     "metadata": {},
     "output_type": "execute_result"
    }
   ],
   "source": [
    "a = [[10, 20], [30, 40], [50, 60]]\n",
    "a"
   ]
  },
  {
   "cell_type": "code",
   "execution_count": 31,
   "id": "a3590438",
   "metadata": {},
   "outputs": [
    {
     "name": "stdout",
     "output_type": "stream",
     "text": [
      "[   [10, 20],\n",
      "    [30, 40],\n",
      "    [50, 60]]\n"
     ]
    }
   ],
   "source": [
    "# 만약 2차원 리스트의 사각형 구조를 유지하도록 출력하려면 pprint 모듈의 pprint 함수를 사용한다.\n",
    "from pprint import pprint\n",
    "pprint(a, indent = 4, width = 20)"
   ]
  },
  {
   "cell_type": "code",
   "execution_count": 32,
   "id": "425d6068",
   "metadata": {},
   "outputs": [
    {
     "name": "stdout",
     "output_type": "stream",
     "text": [
      "10 20\n",
      "30 40\n",
      "50 60\n"
     ]
    }
   ],
   "source": [
    "a = [[10, 20], [30, 40], [50,60]]\n",
    "for x, y in a:\n",
    "    print(x, y)\n",
    "# for 반복문을 한번만 사용하는 방식은 2차원 리스트의 가로 크기가 크지 않을 때 유용하다."
   ]
  },
  {
   "cell_type": "code",
   "execution_count": 33,
   "id": "b9c89c42",
   "metadata": {},
   "outputs": [
    {
     "name": "stdout",
     "output_type": "stream",
     "text": [
      "10 20 \n",
      "30 40 \n",
      "50 60 \n"
     ]
    }
   ],
   "source": [
    "a = [[10, 20], [30, 40], [50, 60]]\n",
    "\n",
    "for i in a: # a에서 안쪽 리스트를 꺼냄\n",
    "    for j in i: # 안쪽 리스트에서 요소를 하나씩 꺼냄\n",
    "        print(j, end = ' ')\n",
    "    print()"
   ]
  },
  {
   "cell_type": "code",
   "execution_count": 34,
   "id": "c1289ffb",
   "metadata": {},
   "outputs": [
    {
     "name": "stdout",
     "output_type": "stream",
     "text": [
      "10 20 \n",
      "30 40 \n",
      "50 60 \n"
     ]
    }
   ],
   "source": [
    "a = [[10, 20], [30, 40], [50, 60]]\n",
    "\n",
    "for i in range(len(a)): # 세로 크기\n",
    "    for j in range(len(a[i])): # 가로 크기\n",
    "        print(a[i][j], end = ' ')\n",
    "    print()"
   ]
  },
  {
   "cell_type": "code",
   "execution_count": 35,
   "id": "744a4377",
   "metadata": {},
   "outputs": [
    {
     "name": "stdout",
     "output_type": "stream",
     "text": [
      "10 20\n",
      "30 40\n",
      "50 60\n"
     ]
    }
   ],
   "source": [
    "# while 반복문을 한 번 사용하기\n",
    "a = [[10, 20], [30, 40], [50, 60]]\n",
    "\n",
    "i = 0\n",
    "while i < len(a): # 반복할 때 리스트의 크기 활용(세로 크기)\n",
    "    x, y = a[i] # 요소 두 개를 한꺼번에 가져오기\n",
    "    print(x, y)\n",
    "    i += 1"
   ]
  },
  {
   "cell_type": "code",
   "execution_count": 36,
   "id": "d4fe1603",
   "metadata": {},
   "outputs": [
    {
     "name": "stdout",
     "output_type": "stream",
     "text": [
      "10 20 \n",
      "30 40 \n",
      "50 60 \n"
     ]
    }
   ],
   "source": [
    "#while 반복문을 두 번 사용하기\n",
    "a = [[10, 20], [30, 40], [50, 60]]\n",
    "\n",
    "i = 0\n",
    "while i < len(a): # 세로 크기\n",
    "    j = 0\n",
    "    while j < len(a[i]): # 가로 크기\n",
    "        print(a[i][j], end = ' ')\n",
    "        j += 1 # 가로 인덱스를 1 증가시킴\n",
    "    print()\n",
    "    i += 1 # 세로 인덱스를 1 증가시킴"
   ]
  },
  {
   "cell_type": "code",
   "execution_count": 37,
   "id": "cf3e988c",
   "metadata": {},
   "outputs": [
    {
     "name": "stdout",
     "output_type": "stream",
     "text": [
      "[0, 0, 0, 0, 0, 0, 0, 0, 0, 0]\n"
     ]
    }
   ],
   "source": [
    "# for 반복문으로 1차원 리스트 만들기\n",
    "a = []\n",
    "\n",
    "for i in range(10):\n",
    "    a.append(0)\n",
    "    \n",
    "print(a)"
   ]
  },
  {
   "cell_type": "code",
   "execution_count": 38,
   "id": "99de32da",
   "metadata": {},
   "outputs": [
    {
     "name": "stdout",
     "output_type": "stream",
     "text": [
      "[[0, 0], [0, 0], [0, 0]]\n"
     ]
    }
   ],
   "source": [
    "# for 반복문으로 2차원 리스트 만들기\n",
    "a = []\n",
    "\n",
    "for i in range(3):\n",
    "    line = [] # 안쪽 리스트로 사용할 빈 리스트 생성\n",
    "    for j in range(2):\n",
    "        line.append(0) # 안쪽 리스트에 0 추가\n",
    "    a.append(line) # 전체 리스트에 안쪽 리스트를 추가\n",
    "    \n",
    "print(a)"
   ]
  },
  {
   "cell_type": "code",
   "execution_count": 39,
   "id": "e345301b",
   "metadata": {},
   "outputs": [
    {
     "data": {
      "text/plain": [
       "[[0, 0], [0, 0], [0, 0]]"
      ]
     },
     "execution_count": 39,
     "metadata": {},
     "output_type": "execute_result"
    }
   ],
   "source": [
    "# 리스트 표현식으로 2차원 리스트 만들기\n",
    "a = [[0 for j in range(2)] for i in range(3)]\n",
    "a"
   ]
  },
  {
   "cell_type": "code",
   "execution_count": 40,
   "id": "6bcfa7a0",
   "metadata": {},
   "outputs": [
    {
     "data": {
      "text/plain": [
       "[[0, 0], [0, 0], [0, 0]]"
      ]
     },
     "execution_count": 40,
     "metadata": {},
     "output_type": "execute_result"
    }
   ],
   "source": [
    "a = [[0] * 2 for i in range(3)]\n",
    "a"
   ]
  },
  {
   "cell_type": "code",
   "execution_count": 43,
   "id": "9fe81135",
   "metadata": {},
   "outputs": [
    {
     "name": "stdout",
     "output_type": "stream",
     "text": [
      "[[0, 0, 0], [0], [0, 0, 0], [0, 0], [0, 0, 0, 0, 0]]\n"
     ]
    }
   ],
   "source": [
    "# 톱니형 리스트 만들기\n",
    "a = [3, 1, 3, 2, 5] # 가로 크기를 저장한 리스트\n",
    "b = [] # 빈 리스트 생성\n",
    "\n",
    "for i in a: # 가로 크기를 저장한 리스트로 반복\n",
    "    line = [] # 안쪽 리스트로 사용할 빈 리스트 생성\n",
    "    for j in range(i): # 리스트 a에 저장된 가로 크기만큼 반복\n",
    "        line.append(0)\n",
    "    b.append(line) # 리스트 b에 안쪽 리스트를 추가\n",
    "\n",
    "print(b)"
   ]
  },
  {
   "cell_type": "code",
   "execution_count": 44,
   "id": "6edbc090",
   "metadata": {},
   "outputs": [
    {
     "data": {
      "text/plain": [
       "[[0, 0, 0], [0], [0, 0, 0], [0, 0], [0, 0, 0, 0, 0]]"
      ]
     },
     "execution_count": 44,
     "metadata": {},
     "output_type": "execute_result"
    }
   ],
   "source": [
    "a = [[0] * i for i in [3, 1, 3, 2, 5]]\n",
    "a"
   ]
  },
  {
   "cell_type": "code",
   "execution_count": 45,
   "id": "e16321a8",
   "metadata": {},
   "outputs": [
    {
     "name": "stdout",
     "output_type": "stream",
     "text": [
      "[['maria', 'A', 25], ['andrew', 'B', 7], ['john', 'C', 19]]\n",
      "[['andrew', 'B', 7], ['john', 'C', 19], ['maria', 'A', 25]]\n"
     ]
    }
   ],
   "source": [
    "students = [\n",
    "    ['john', 'C', 19],\n",
    "    ['maria', 'A', 25],\n",
    "    ['andrew', 'B', 7]\n",
    "]\n",
    "\n",
    "print(sorted(students, key = lambda student: student[1]))\n",
    "\n",
    "print(sorted(students, key = lambda student: student[2]))"
   ]
  },
  {
   "cell_type": "code",
   "execution_count": 46,
   "id": "3d509e9a",
   "metadata": {},
   "outputs": [
    {
     "data": {
      "text/plain": [
       "[[500, 20], [30, 40]]"
      ]
     },
     "execution_count": 46,
     "metadata": {},
     "output_type": "execute_result"
    }
   ],
   "source": [
    "a = [[10, 20], [30, 40]]\n",
    "b = a\n",
    "b[0][0] = 500\n",
    "a"
   ]
  },
  {
   "cell_type": "code",
   "execution_count": 47,
   "id": "da363ae4",
   "metadata": {},
   "outputs": [
    {
     "data": {
      "text/plain": [
       "[[500, 20], [30, 40]]"
      ]
     },
     "execution_count": 47,
     "metadata": {},
     "output_type": "execute_result"
    }
   ],
   "source": [
    "b"
   ]
  },
  {
   "cell_type": "code",
   "execution_count": 48,
   "id": "d3a87ca6",
   "metadata": {},
   "outputs": [
    {
     "data": {
      "text/plain": [
       "[[10, 20], [30, 40]]"
      ]
     },
     "execution_count": 48,
     "metadata": {},
     "output_type": "execute_result"
    }
   ],
   "source": [
    "a = [[10, 20], [30, 40]]\n",
    "import copy\n",
    "b = copy.deepcopy(a)\n",
    "b[0][0] = 500\n",
    "a"
   ]
  },
  {
   "cell_type": "code",
   "execution_count": 49,
   "id": "df4af009",
   "metadata": {},
   "outputs": [
    {
     "data": {
      "text/plain": [
       "[[500, 20], [30, 40]]"
      ]
     },
     "execution_count": 49,
     "metadata": {},
     "output_type": "execute_result"
    }
   ],
   "source": [
    "b"
   ]
  },
  {
   "cell_type": "code",
   "execution_count": 51,
   "id": "724bd93d",
   "metadata": {},
   "outputs": [
    {
     "name": "stdout",
     "output_type": "stream",
     "text": [
      "[[[[0, 0, 0], [0, 0, 0], [0, 0, 0], [0, 0, 0]], [[0, 0, 0], [0, 0, 0], [0, 0, 0], [0, 0, 0]]]]\n"
     ]
    }
   ],
   "source": [
    "# 3차원 리스트 만들기\n",
    "a = [[[[0 for col in range(3)] for row in range(4)] for depth in range(2)]]\n",
    "print(a)"
   ]
  },
  {
   "cell_type": "code",
   "execution_count": 53,
   "id": "dc40d7a3",
   "metadata": {},
   "outputs": [
    {
     "name": "stdout",
     "output_type": "stream",
     "text": [
      "3 3\n",
      ".**\n",
      "*..\n",
      ".*.\n",
      "2**\n",
      "*43\n",
      "2*1\n"
     ]
    }
   ],
   "source": [
    "# 지뢰찾기\n",
    "col, row = map(int, input().split())\n",
    "matrix = []\n",
    "for i in range(row):\n",
    "    matrix.append(list(input()))\n",
    "for i in range(col):\n",
    "    for j in range(row):\n",
    "        if matrix[i][j] == '*':\n",
    "            print('*', end = '')\n",
    "        else:\n",
    "            count = 0\n",
    "            for k in range(i - 1, i + 2):\n",
    "                for l in range(j - 1, j + 2):\n",
    "                    if k < 0 or k >= row or l < 0 or l >= row:\n",
    "                        continue\n",
    "                    elif matrix[k][l] == '*':\n",
    "                        count += 1\n",
    "            print(count, end = '')\n",
    "    print()"
   ]
  },
  {
   "cell_type": "code",
   "execution_count": null,
   "id": "855d3133",
   "metadata": {},
   "outputs": [],
   "source": []
  },
  {
   "cell_type": "code",
   "execution_count": null,
   "id": "c4830bdf",
   "metadata": {},
   "outputs": [],
   "source": []
  },
  {
   "cell_type": "code",
   "execution_count": null,
   "id": "5f1e6a81",
   "metadata": {},
   "outputs": [],
   "source": []
  },
  {
   "cell_type": "code",
   "execution_count": null,
   "id": "e6585a89",
   "metadata": {},
   "outputs": [],
   "source": []
  },
  {
   "cell_type": "code",
   "execution_count": null,
   "id": "e3047d62",
   "metadata": {},
   "outputs": [],
   "source": []
  },
  {
   "cell_type": "code",
   "execution_count": null,
   "id": "2b4ba1b6",
   "metadata": {},
   "outputs": [],
   "source": []
  },
  {
   "cell_type": "code",
   "execution_count": null,
   "id": "63f24faf",
   "metadata": {},
   "outputs": [],
   "source": []
  },
  {
   "cell_type": "code",
   "execution_count": null,
   "id": "c30d9cf8",
   "metadata": {},
   "outputs": [],
   "source": []
  },
  {
   "cell_type": "code",
   "execution_count": null,
   "id": "6fd073ed",
   "metadata": {},
   "outputs": [],
   "source": []
  },
  {
   "cell_type": "code",
   "execution_count": null,
   "id": "6f3050b4",
   "metadata": {},
   "outputs": [],
   "source": []
  },
  {
   "cell_type": "code",
   "execution_count": null,
   "id": "57e25538",
   "metadata": {},
   "outputs": [],
   "source": []
  },
  {
   "cell_type": "code",
   "execution_count": null,
   "id": "a4b9529e",
   "metadata": {},
   "outputs": [],
   "source": []
  }
 ],
 "metadata": {
  "kernelspec": {
   "display_name": "Python 3 (ipykernel)",
   "language": "python",
   "name": "python3"
  },
  "language_info": {
   "codemirror_mode": {
    "name": "ipython",
    "version": 3
   },
   "file_extension": ".py",
   "mimetype": "text/x-python",
   "name": "python",
   "nbconvert_exporter": "python",
   "pygments_lexer": "ipython3",
   "version": "3.10.9"
  }
 },
 "nbformat": 4,
 "nbformat_minor": 5
}
