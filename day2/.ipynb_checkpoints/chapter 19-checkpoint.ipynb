{
 "cells": [
  {
   "cell_type": "code",
   "execution_count": 3,
   "id": "adddee65",
   "metadata": {},
   "outputs": [
    {
     "name": "stdout",
     "output_type": "stream",
     "text": [
      "j:0 j:1 j:2 j:3 j:4 i0\\n\n",
      "j:0 j:1 j:2 j:3 j:4 i1\\n\n",
      "j:0 j:1 j:2 j:3 j:4 i2\\n\n",
      "j:0 j:1 j:2 j:3 j:4 i3\\n\n",
      "j:0 j:1 j:2 j:3 j:4 i4\\n\n"
     ]
    }
   ],
   "source": [
    "for i in range(5): # 바깥쪽 루프\n",
    "    for j in range(5): # 안쪽 루프\n",
    "        print(\"j:\", j, sep= '', end= ' ')\n",
    "    print(\"i\", i, '\\\\n', sep= '')"
   ]
  },
  {
   "cell_type": "code",
   "execution_count": 4,
   "id": "94bbbbbf",
   "metadata": {},
   "outputs": [
    {
     "name": "stdout",
     "output_type": "stream",
     "text": [
      "*****\n",
      "*****\n",
      "*****\n",
      "*****\n",
      "*****\n"
     ]
    }
   ],
   "source": [
    "for i in range(5):\n",
    "    for j in range(5):\n",
    "        print(\"*\", end = \"\")\n",
    "        \n",
    "    print()"
   ]
  },
  {
   "cell_type": "code",
   "execution_count": 5,
   "id": "20644f30",
   "metadata": {},
   "outputs": [
    {
     "name": "stdout",
     "output_type": "stream",
     "text": [
      "*******\n",
      "*******\n",
      "*******\n"
     ]
    }
   ],
   "source": [
    "for i in range(3):\n",
    "    for j in range(7):\n",
    "        print(\"*\", end = \"\")\n",
    "        \n",
    "    print()"
   ]
  },
  {
   "cell_type": "code",
   "execution_count": 7,
   "id": "f6cfd864",
   "metadata": {},
   "outputs": [
    {
     "name": "stdout",
     "output_type": "stream",
     "text": [
      "*\n",
      "**\n",
      "***\n",
      "****\n",
      "*****\n"
     ]
    }
   ],
   "source": [
    "for i in range(5):\n",
    "    for j in range(5):\n",
    "        if j <= i:\n",
    "            print(\"*\", end = \"\")\n",
    "            \n",
    "    print()"
   ]
  },
  {
   "cell_type": "code",
   "execution_count": 8,
   "id": "942615ee",
   "metadata": {},
   "outputs": [
    {
     "name": "stdout",
     "output_type": "stream",
     "text": [
      "*\n",
      "*\n",
      "*\n",
      "*\n",
      "*\n"
     ]
    }
   ],
   "source": [
    "# 대각선으로 별 출력하기\n",
    "for i in range(5):\n",
    "    for j in range(5):\n",
    "        if j == i:\n",
    "            print('*', end = '')\n",
    "    print()"
   ]
  },
  {
   "cell_type": "code",
   "execution_count": 9,
   "id": "47d42873",
   "metadata": {},
   "outputs": [
    {
     "name": "stdout",
     "output_type": "stream",
     "text": [
      "*    \n",
      " *   \n",
      "  *  \n",
      "   * \n",
      "    *\n"
     ]
    }
   ],
   "source": [
    "for i in range(5):\n",
    "    for j in range(5):\n",
    "        if j == i:\n",
    "            print('*', end = '')\n",
    "        else:\n",
    "            print(' ', end = '')\n",
    "            \n",
    "    print()"
   ]
  },
  {
   "cell_type": "code",
   "execution_count": 10,
   "id": "25be75ee",
   "metadata": {},
   "outputs": [
    {
     "name": "stdout",
     "output_type": "stream",
     "text": [
      "*****\n",
      "*****\n",
      "*****\n",
      "*****\n",
      "*****\n"
     ]
    }
   ],
   "source": [
    "for i in range(5):\n",
    "    for j in range(5):\n",
    "        print('*', end = '')\n",
    "    print()"
   ]
  },
  {
   "cell_type": "code",
   "execution_count": 12,
   "id": "9d6473ca",
   "metadata": {},
   "outputs": [
    {
     "name": "stdout",
     "output_type": "stream",
     "text": [
      "*****\n",
      " ****\n",
      "  ***\n",
      "   **\n",
      "    *\n"
     ]
    }
   ],
   "source": [
    "\"\"\"\n",
    "1. c, e\n",
    "2. c\n",
    "\"\"\"\n",
    "\n",
    "# 역삼각형 모양으로 별 출력하기\n",
    "for i in range(5):\n",
    "    for j in range(5):\n",
    "        if j < i:\n",
    "            print(' ', end = '')\n",
    "        else:\n",
    "            print('*', end = '')\n",
    "            \n",
    "    print()"
   ]
  },
  {
   "cell_type": "code",
   "execution_count": 13,
   "id": "98689331",
   "metadata": {},
   "outputs": [
    {
     "name": "stdout",
     "output_type": "stream",
     "text": [
      "5\n",
      "    *\n",
      "   ***\n",
      "  *****\n",
      " *******\n",
      "*********\n"
     ]
    }
   ],
   "source": [
    "# 산 모양으로 별 출력하기\n",
    "m = int(input())\n",
    "for i in range(m):\n",
    "    for j in reversed(range(m)):\n",
    "        if i < j:\n",
    "            print(' ', end = '')\n",
    "        else:\n",
    "            print('*', end = '')\n",
    "    for j in range(m):\n",
    "        if i > j:\n",
    "            print('*', end = '')\n",
    "    print()"
   ]
  },
  {
   "cell_type": "code",
   "execution_count": null,
   "id": "63251426",
   "metadata": {},
   "outputs": [],
   "source": []
  },
  {
   "cell_type": "code",
   "execution_count": null,
   "id": "161b1a7f",
   "metadata": {},
   "outputs": [],
   "source": []
  },
  {
   "cell_type": "code",
   "execution_count": null,
   "id": "ebaf00cb",
   "metadata": {},
   "outputs": [],
   "source": []
  },
  {
   "cell_type": "code",
   "execution_count": null,
   "id": "65e28d60",
   "metadata": {},
   "outputs": [],
   "source": []
  },
  {
   "cell_type": "code",
   "execution_count": null,
   "id": "18437c44",
   "metadata": {},
   "outputs": [],
   "source": []
  }
 ],
 "metadata": {
  "kernelspec": {
   "display_name": "Python 3 (ipykernel)",
   "language": "python",
   "name": "python3"
  },
  "language_info": {
   "codemirror_mode": {
    "name": "ipython",
    "version": 3
   },
   "file_extension": ".py",
   "mimetype": "text/x-python",
   "name": "python",
   "nbconvert_exporter": "python",
   "pygments_lexer": "ipython3",
   "version": "3.10.9"
  }
 },
 "nbformat": 4,
 "nbformat_minor": 5
}
